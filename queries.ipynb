{
 "cells": [
  {
   "cell_type": "code",
   "execution_count": 7,
   "metadata": {},
   "outputs": [],
   "source": [
    "import config\n",
    "#DB instance creation\n",
    "import mysql.connector\n",
    "from mysql.connector import errorcode\n",
    "import requests\n"
   ]
  },
  {
   "cell_type": "code",
   "execution_count": 8,
   "metadata": {},
   "outputs": [],
   "source": [
    "def connect_to_db():\n",
    "    cnx = mysql.connector.connect(\n",
    "    host=config.host, user=config.user, passwd=config.password, database=config.DB_NAME)\n",
    "    cursor = cnx.cursor()\n",
    "    return cnx, cursor\n"
   ]
  },
  {
   "cell_type": "code",
   "execution_count": 9,
   "metadata": {},
   "outputs": [],
   "source": [
    "#helper method, executes a sql query and returns the fetchall results\n",
    "def execute_query(query):\n",
    "    cnx, c = connect_to_db\n",
    "    c.execute(query)\n",
    "    result = c.fetchall()\n",
    "    #close\n",
    "    c.close()\n",
    "    cnx.close()\n",
    "    return result"
   ]
  },
  {
   "cell_type": "code",
   "execution_count": 10,
   "metadata": {},
   "outputs": [
    {
     "data": {
      "text/plain": [
       "[('10402', 'Music'),\n",
       " ('10749', 'Romance'),\n",
       " ('10751', 'Family'),\n",
       " ('10752', 'War'),\n",
       " ('10770', 'TV Movie'),\n",
       " ('12', 'Adventure'),\n",
       " ('14', 'Fantasy'),\n",
       " ('16', 'Animation'),\n",
       " ('18', 'Drama'),\n",
       " ('27', 'Horror'),\n",
       " ('28', 'Action'),\n",
       " ('35', 'Comedy'),\n",
       " ('36', 'History'),\n",
       " ('37', 'Western'),\n",
       " ('53', 'Thriller'),\n",
       " ('80', 'Crime'),\n",
       " ('878', 'Science Fiction'),\n",
       " ('9648', 'Mystery'),\n",
       " ('99', 'Documentary')]"
      ]
     },
     "execution_count": 10,
     "metadata": {},
     "output_type": "execute_result"
    }
   ],
   "source": [
    "def get_genres_from_db():\n",
    "    cnx, cursor = connect_to_db()\n",
    "    query = \"\"\"SELECT * \n",
    "                FROM genres\"\"\"\n",
    "    cursor.execute(query)\n",
    "    return cursor.fetchall()\n",
    "\n",
    "get_genres_from_db()"
   ]
  },
  {
   "cell_type": "code",
   "execution_count": 11,
   "metadata": {},
   "outputs": [],
   "source": [
    "def get_all_movie_info():\n",
    "    select_q = \"\"\"\n",
    "                SELECT movie_id, genres\n",
    "                FROM movies\n",
    "                \"\"\"\n",
    "    cnx, c = connect_to_db()\n",
    "    c.execute(q)\n",
    "    results = c.fetchall()\n",
    "#populate the genre instances table with the data from Movies\n",
    "def populate_genre_instances():\n",
    "    pass"
   ]
  },
  {
   "cell_type": "code",
   "execution_count": 12,
   "metadata": {},
   "outputs": [
    {
     "data": {
      "text/plain": [
       "[('Music', 95),\n",
       " ('Music', 570),\n",
       " ('Music', 247),\n",
       " ('Music', 266),\n",
       " ('Music', 19),\n",
       " ('Music', 437),\n",
       " ('Music', 361),\n",
       " ('Music', 399),\n",
       " ('Music', 2831),\n",
       " ('Music', 114),\n",
       " ('Music', 513),\n",
       " ('Music', 798),\n",
       " ('Music', 285),\n",
       " ('Music', 57),\n",
       " ('Music', 646),\n",
       " ('Music', 608),\n",
       " ('Music', 323),\n",
       " ('Music', 380)]"
      ]
     },
     "execution_count": 12,
     "metadata": {},
     "output_type": "execute_result"
    }
   ],
   "source": [
    "######SQL QUERIES#########\n",
    "\n",
    "def get_most_popular_movie():\n",
    "    q = \"\"\"SELECT * \n",
    "            FROM movies\n",
    "            ORDER BY popularity DESC\n",
    "            LIMIT 5\n",
    "        \"\"\"\n",
    "    cnx, c = connect_to_db()\n",
    "    c.execute(q)\n",
    "    results = c.fetchall()\n",
    "    cnx.close()\n",
    "    c.close()\n",
    "    return results\n",
    "\n",
    "get_most_popular_movie()\n",
    "\n",
    "def get_genre_counts():\n",
    "    q = \"\"\"SELECT genres.name AS genre_name, COUNT(*) \n",
    "        FROM genre_instances\n",
    "        JOIN genres\n",
    "        ON (genre_instances.genre_id)\n",
    "        GROUP BY genre_instances.genre_id\n",
    "    \"\"\"\n",
    "    cnx, c = connect_to_db()\n",
    "    c.execute(q)\n",
    "    results = c.fetchall()\n",
    "    c.close()\n",
    "    cnx.close()\n",
    "    return results\n",
    "\n",
    "get_genre_counts()"
   ]
  },
  {
   "cell_type": "code",
   "execution_count": null,
   "metadata": {},
   "outputs": [],
   "source": []
  },
  {
   "cell_type": "code",
   "execution_count": null,
   "metadata": {},
   "outputs": [],
   "source": []
  }
 ],
 "metadata": {
  "kernelspec": {
   "display_name": "Python 3",
   "language": "python",
   "name": "python3"
  },
  "language_info": {
   "codemirror_mode": {
    "name": "ipython",
    "version": 3
   },
   "file_extension": ".py",
   "mimetype": "text/x-python",
   "name": "python",
   "nbconvert_exporter": "python",
   "pygments_lexer": "ipython3",
   "version": "3.7.3"
  }
 },
 "nbformat": 4,
 "nbformat_minor": 2
}
