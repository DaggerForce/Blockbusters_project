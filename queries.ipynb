{
 "cells": [
  {
   "cell_type": "code",
   "execution_count": 7,
   "metadata": {},
   "outputs": [],
   "source": [
    "import config\n",
    "#DB instance creation\n",
    "import mysql.connector\n",
    "from mysql.connector import errorcode\n",
    "import requests\n"
   ]
  },
  {
   "cell_type": "code",
   "execution_count": 8,
   "metadata": {},
   "outputs": [],
   "source": [
    "def connect_to_db():\n",
    "    cnx = mysql.connector.connect(\n",
    "    host=config.host, user=config.user, passwd=config.password, database=config.DB_NAME)\n",
    "    cursor = cnx.cursor()\n",
    "    return cnx, cursor\n"
   ]
  },
  {
   "cell_type": "code",
   "execution_count": 17,
   "metadata": {},
   "outputs": [],
   "source": [
    "#helper method, executes a sql query and returns the fetchall results\n",
    "def execute_query(query):\n",
    "    cnx, c = connect_to_db()\n",
    "    c.execute(query)\n",
    "    result = c.fetchall()\n",
    "    #close\n",
    "    c.close()\n",
    "    cnx.close()\n",
    "    return result"
   ]
  },
  {
   "cell_type": "code",
   "execution_count": 10,
   "metadata": {},
   "outputs": [
    {
     "data": {
      "text/plain": [
       "[('10402', 'Music'),\n",
       " ('10749', 'Romance'),\n",
       " ('10751', 'Family'),\n",
       " ('10752', 'War'),\n",
       " ('10770', 'TV Movie'),\n",
       " ('12', 'Adventure'),\n",
       " ('14', 'Fantasy'),\n",
       " ('16', 'Animation'),\n",
       " ('18', 'Drama'),\n",
       " ('27', 'Horror'),\n",
       " ('28', 'Action'),\n",
       " ('35', 'Comedy'),\n",
       " ('36', 'History'),\n",
       " ('37', 'Western'),\n",
       " ('53', 'Thriller'),\n",
       " ('80', 'Crime'),\n",
       " ('878', 'Science Fiction'),\n",
       " ('9648', 'Mystery'),\n",
       " ('99', 'Documentary')]"
      ]
     },
     "execution_count": 10,
     "metadata": {},
     "output_type": "execute_result"
    }
   ],
   "source": [
    "def get_genres_from_db():\n",
    "    cnx, cursor = connect_to_db()\n",
    "    query = \"\"\"SELECT * \n",
    "                FROM genres\"\"\"\n",
    "    cursor.execute(query)\n",
    "    return cursor.fetchall()\n",
    "\n",
    "get_genres_from_db()"
   ]
  },
  {
   "cell_type": "code",
   "execution_count": 11,
   "metadata": {},
   "outputs": [],
   "source": [
    "def get_all_movie_info():\n",
    "    select_q = \"\"\"\n",
    "                SELECT movie_id, genres\n",
    "                FROM movies\n",
    "                \"\"\"\n",
    "    cnx, c = connect_to_db()\n",
    "    c.execute(q)\n",
    "    results = c.fetchall()\n",
    "#populate the genre instances table with the data from Movies\n",
    "def populate_genre_instances():\n",
    "    pass"
   ]
  },
  {
   "cell_type": "code",
   "execution_count": 13,
   "metadata": {},
   "outputs": [
    {
     "data": {
      "text/plain": [
       "[('Music', 5),\n",
       " ('Romance', 30),\n",
       " ('Family', 13),\n",
       " ('War', 14),\n",
       " ('TV Movie', 1),\n",
       " ('Adventure', 23),\n",
       " ('Fantasy', 19),\n",
       " ('Animation', 21),\n",
       " ('Drama', 149),\n",
       " ('Horror', 6),\n",
       " ('Action', 27),\n",
       " ('Comedy', 42),\n",
       " ('History', 15),\n",
       " ('Western', 3),\n",
       " ('Thriller', 34),\n",
       " ('Crime', 32),\n",
       " ('Science Fiction', 17),\n",
       " ('Mystery', 20)]"
      ]
     },
     "execution_count": 13,
     "metadata": {},
     "output_type": "execute_result"
    }
   ],
   "source": [
    "######SQL QUERIES#########\n",
    "\n",
    "def get_most_popular_movie():\n",
    "    q = \"\"\"SELECT * \n",
    "            FROM movies\n",
    "            ORDER BY popularity DESC\n",
    "            LIMIT 5\n",
    "        \"\"\"\n",
    "    cnx, c = connect_to_db()\n",
    "    c.execute(q)\n",
    "    results = c.fetchall()\n",
    "    cnx.close()\n",
    "    c.close()\n",
    "    return results\n",
    "\n",
    "get_most_popular_movie()\n",
    "\n",
    "def get_genre_counts():\n",
    "    q = \"\"\"SELECT genres.name AS genre_name, COUNT(*) \n",
    "        FROM genre_instances\n",
    "        JOIN genres\n",
    "        USING (genre_id)\n",
    "        GROUP BY genre_instances.genre_id\n",
    "    \"\"\"\n",
    "    cnx, c = connect_to_db()\n",
    "    c.execute(q)\n",
    "    results = c.fetchall()\n",
    "    c.close()\n",
    "    cnx.close()\n",
    "    return results\n",
    "\n",
    "get_genre_counts()"
   ]
  },
  {
   "cell_type": "code",
   "execution_count": 20,
   "metadata": {},
   "outputs": [
    {
     "data": {
      "text/plain": [
       "[('Science Fiction', 48.74058858086081),\n",
       " ('Adventure', 44.2043046536653),\n",
       " ('Action', 38.01070398754544),\n",
       " ('Fantasy', 22.458947589522914),\n",
       " ('Family', 22.250308000124416),\n",
       " ('Music', 22.177800369262695),\n",
       " ('Crime', 20.312937647104263),\n",
       " ('Thriller', 20.25147064994363),\n",
       " ('Western', 19.925333658854168),\n",
       " ('War', 18.92850008181163),\n",
       " ('Animation', 18.287238245918637),\n",
       " ('Drama', 16.203590624284423),\n",
       " ('Mystery', 16.20164997577667),\n",
       " ('Horror', 15.95549980799357),\n",
       " ('History', 15.361400032043457),\n",
       " ('Comedy', 14.026738007863363),\n",
       " ('Romance', 13.827366721630096),\n",
       " ('TV Movie', 6.376999855041504)]"
      ]
     },
     "execution_count": 20,
     "metadata": {},
     "output_type": "execute_result"
    }
   ],
   "source": [
    "def get_most_popular_genres():\n",
    "    q = \"\"\"\n",
    "        SELECT genres.name, AVG(popularity) AS avg_popularity\n",
    "        FROM genre_instances\n",
    "        JOIN genres \n",
    "        USING (genre_id)\n",
    "        JOIN movies\n",
    "        USING (movie_id)\n",
    "        GROUP BY genre_id\n",
    "        ORDER BY avg_popularity DESC;\n",
    "        \"\"\"\n",
    "    return execute_query(q)\n",
    "\n",
    "get_most_popular_genres()"
   ]
  },
  {
   "cell_type": "code",
   "execution_count": null,
   "metadata": {},
   "outputs": [],
   "source": []
  }
 ],
 "metadata": {
  "kernelspec": {
   "display_name": "Python 3",
   "language": "python",
   "name": "python3"
  },
  "language_info": {
   "codemirror_mode": {
    "name": "ipython",
    "version": 3
   },
   "file_extension": ".py",
   "mimetype": "text/x-python",
   "name": "python",
   "nbconvert_exporter": "python",
   "pygments_lexer": "ipython3",
   "version": "3.7.3"
  }
 },
 "nbformat": 4,
 "nbformat_minor": 2
}
