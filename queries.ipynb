{
 "cells": [
  {
   "cell_type": "code",
   "execution_count": 1,
   "metadata": {},
   "outputs": [],
   "source": [
    "import config\n",
    "#DB instance creation\n",
    "import mysql.connector\n",
    "from mysql.connector import errorcode\n",
    "import requests\n"
   ]
  },
  {
   "cell_type": "code",
   "execution_count": 2,
   "metadata": {},
   "outputs": [],
   "source": [
    "def connect_to_db():\n",
    "    cnx = mysql.connector.connect(\n",
    "    host=config.host, user=config.user, passwd=config.password, database=config.DB_NAME)\n",
    "    cursor = cnx.cursor()\n",
    "    return cnx, cursor\n"
   ]
  },
  {
   "cell_type": "code",
   "execution_count": 3,
   "metadata": {},
   "outputs": [],
   "source": [
    "#helper method, executes a sql query and returns the fetchall results\n",
    "def execute_query(query):\n",
    "    cnx, c = connect_to_db()\n",
    "    c.execute(query)\n",
    "    result = c.fetchall()\n",
    "    #close\n",
    "    c.close()\n",
    "    cnx.close()\n",
    "    return result"
   ]
  },
  {
   "cell_type": "code",
   "execution_count": 4,
   "metadata": {},
   "outputs": [],
   "source": [
    "def get_genres_from_db():\n",
    "    cnx, cursor = connect_to_db()\n",
    "    query = \"\"\"SELECT * \n",
    "                FROM genres\"\"\"\n",
    "    cursor.execute(query)\n",
    "    return cursor.fetchall()\n",
    "\n",
    "# get_genres_from_db()"
   ]
  },
  {
   "cell_type": "code",
   "execution_count": 5,
   "metadata": {},
   "outputs": [],
   "source": [
    "\n",
    "def convert_list_from_tuples(tuple_list):\n",
    "    \"\"\"The movie titles are retrieved as a list of tupes, \n",
    "    return instead a list with just the title from the first half of each tuple\"\"\"\n",
    "    title_list = []\n",
    "    for item in tuple_list:\n",
    "        title_list.append(item[0])\n",
    "    return title_list\n",
    "    \n",
    "\n",
    "def get_all_movie_info():\n",
    "    select_q = \"\"\"\n",
    "                SELECT *\n",
    "                FROM movies\n",
    "                \"\"\"\n",
    "    cnx, c = connect_to_db()\n",
    "    c.execute(q)\n",
    "    results = c.fetchall()\n",
    "    cnx.close()\n",
    "    c.close()\n",
    "    return results\n",
    "\n",
    "def get_movie_names():\n",
    "    name_q = \"\"\"\n",
    "            SELECT title\n",
    "            FROM movies\"\"\"\n",
    "    cnx, c = connect_to_db()\n",
    "    c.execute(name_q)\n",
    "    results = c.fetchall()\n",
    "    cnx.close()\n",
    "    c.close()\n",
    "    title_list = convert_list_from_tuples(results) \n",
    "    return title_list\n",
    "\n",
    "# get_movie_names()\n",
    "    "
   ]
  },
  {
   "cell_type": "code",
   "execution_count": 6,
   "metadata": {},
   "outputs": [],
   "source": [
    "######SQL QUERIES#########\n",
    "\n",
    "def get_most_popular_movie():\n",
    "    q = \"\"\"SELECT * \n",
    "            FROM movies\n",
    "            ORDER BY popularity DESC\n",
    "            LIMIT 5\n",
    "        \"\"\"\n",
    "    cnx, c = connect_to_db()\n",
    "    c.execute(q)\n",
    "    results = c.fetchall()\n",
    "    cnx.close()\n",
    "    c.close()\n",
    "    return results\n",
    "\n",
    "get_most_popular_movie()\n",
    "\n",
    "def get_genre_counts():\n",
    "    q = \"\"\"SELECT genres.name AS genre_name, COUNT(*) \n",
    "        FROM genre_instances\n",
    "        JOIN genres\n",
    "        USING (genre_id)\n",
    "        GROUP BY genre_instances.genre_id\n",
    "    \"\"\"\n",
    "    cnx, c = connect_to_db()\n",
    "    c.execute(q)\n",
    "    results = c.fetchall()\n",
    "    c.close()\n",
    "    cnx.close()\n",
    "    return results\n",
    "\n",
    "# get_genre_counts()"
   ]
  },
  {
   "cell_type": "code",
   "execution_count": 126,
   "metadata": {},
   "outputs": [],
   "source": [
    "def get_most_popular_genres():\n",
    "    q = \"\"\"\n",
    "        SELECT genres.name, AVG(popularity) AS avg_popularity\n",
    "        FROM genre_instances\n",
    "        JOIN genres \n",
    "        USING (genre_id)\n",
    "        JOIN movies\n",
    "        USING (movie_id)\n",
    "        GROUP BY genre_id\n",
    "        ORDER BY avg_popularity DESC;\n",
    "        \"\"\"\n",
    "    return execute_query(q)\n",
    "\n",
    "# get_most_popular_genres()"
   ]
  },
  {
   "cell_type": "code",
   "execution_count": 127,
   "metadata": {},
   "outputs": [],
   "source": [
    "def get_movies_table():\n",
    "    q = \"\"\"\n",
    "        SELECT * \n",
    "        FROM movies\n",
    "        ORDER BY popularity DESC\n",
    "        \"\"\"\n",
    "    return execute_query(q)"
   ]
  },
  {
   "cell_type": "code",
   "execution_count": 51,
   "metadata": {},
   "outputs": [
    {
     "data": {
      "image/png": "[encoded data removed]",
      "text/plain": [
       "<Figure size 720x432 with 1 Axes>"
      ]
     },
     "metadata": {
      "needs_background": "light"
     },
     "output_type": "display_data"
    }
   ],
   "source": [
    "import matplotlib.pyplot as plt\n",
    "import seaborn\n",
    "\n",
    "%matplotlib inline\n",
    "\n",
    "\n",
    "# popular_tuple = get_most_popular_genres()\n",
    "# genres = [item[0] for item in popular_tuple]\n",
    "# avg_pop = [item[1] for item in popular_tuple]\n",
    "\n",
    "def bar_chart(x, y, xlabel=None, ylabel=None, title=None):\n",
    "    \"\"\"This function creates bar charts. It must recieve the x and y values to plot.\n",
    "       optional insertions are: add xlabel, ylabel and title.\"\"\"\n",
    "    plt.figure(figsize=(10,6))\n",
    "    plt.bar(x, y, align='center', alpha=0.5)\n",
    "    #give the x ticks a slight rotation in case the data is highly populated\n",
    "    plt.xticks(x, rotation=70)\n",
    "    plt.xlabel(xlabel)\n",
    "    plt.ylabel(ylabel)\n",
    "    plt.title(title)\n",
    "    plt.show()\n",
    "    return\n",
    "\n",
    "bar_chart(genres, avg_pop, \n",
    "          'Genres', 'Average Popularity', \n",
    "          'Average Popularity For Every Genre')"
   ]
  },
  {
   "cell_type": "code",
   "execution_count": 139,
   "metadata": {},
   "outputs": [
    {
     "name": "stdout",
     "output_type": "stream",
     "text": [
      "[[1.         0.11863972]\n",
      " [0.11863972 1.        ]]\n"
     ]
    },
    {
     "data": {
      "image/png": "[encoded data removed]",
      "text/plain": [
       "<Figure size 720x432 with 1 Axes>"
      ]
     },
     "metadata": {
      "needs_background": "light"
     },
     "output_type": "display_data"
    }
   ],
   "source": [
    "import numpy as np\n",
    "query_tuple = get_movies_table()\n",
    "\n",
    "\n",
    "# title = [item[1] for item in query_tuple]\n",
    "# popu = [item[2] for item in query_tuple]\n",
    "# re_date = [item[3] for item in query_tuple]\n",
    "# vote_count = [item[4] for item in query_tuple]\n",
    "# vote_avg = [item[5] for item in query_tuple]\n",
    "# title_length = [len(item) for item in title]\n",
    "   \n",
    "test_list = []\n",
    "for ind in range(len(popu)):\n",
    "    test_dict = {'vote_count': vote_count[ind],\n",
    "                 'title_length': title_length[ind]}\n",
    "    test_list.append(test_dict)\n",
    "\n",
    "x = []\n",
    "y = []\n",
    "for dictionary in test_list:\n",
    "    y.append(dictionary['vote_count'])\n",
    "    x.append(dictionary['title_length'])\n",
    "    \n",
    "plt.figure(figsize=(10,6))\n",
    "plt.scatter(x, y, label = \"test\" )\n",
    "# Set x and y axes lvote_countabels\n",
    "plt.xlabel('X values')\n",
    "plt.ylabel('Y values')\n",
    "\n",
    "print(np.corrcoef(x,y))\n",
    "plt.title('Scatter Plot in Matplotlib')\n",
    "plt.legend()\n",
    "plt.show()\n",
    "\n"
   ]
  },
  {
   "cell_type": "code",
   "execution_count": 128,
   "metadata": {},
   "outputs": [
    {
     "data": {
      "text/plain": [
       "[{'popularity': 108.68, 'title_length': 22},\n",
       " {'popularity': 79.894, 'title_length': 9},\n",
       " {'popularity': 55.09, 'title_length': 33},\n",
       " {'popularity': 47.206, 'title_length': 49},\n",
       " {'popularity': 40.246, 'title_length': 15},\n",
       " {'popularity': 39.88, 'title_length': 12},\n",
       " {'popularity': 37.843, 'title_length': 45},\n",
       " {'popularity': 37.615, 'title_length': 9},\n",
       " {'popularity': 35.721, 'title_length': 10},\n",
       " {'popularity': 33.617, 'title_length': 10},\n",
       " {'popularity': 32.412, 'title_length': 12},\n",
       " {'popularity': 31.66, 'title_length': 37},\n",
       " {'popularity': 31.392, 'title_length': 15},\n",
       " {'popularity': 30.651, 'title_length': 24},\n",
       " {'popularity': 30.317, 'title_length': 16},\n",
       " {'popularity': 29.973, 'title_length': 44},\n",
       " {'popularity': 29.937, 'title_length': 4},\n",
       " {'popularity': 28.964, 'title_length': 13},\n",
       " {'popularity': 28.181, 'title_length': 10},\n",
       " {'popularity': 27.512, 'title_length': 12},\n",
       " {'popularity': 26.49, 'title_length': 22},\n",
       " {'popularity': 26.065, 'title_length': 8},\n",
       " {'popularity': 25.491, 'title_length': 10},\n",
       " {'popularity': 25.17, 'title_length': 4},\n",
       " {'popularity': 24.167, 'title_length': 13},\n",
       " {'popularity': 23.135, 'title_length': 18},\n",
       " {'popularity': 22.485, 'title_length': 20},\n",
       " {'popularity': 21.404, 'title_length': 14},\n",
       " {'popularity': 21.068, 'title_length': 12},\n",
       " {'popularity': 21.06, 'title_length': 27},\n",
       " {'popularity': 20.945, 'title_length': 6},\n",
       " {'popularity': 20.633, 'title_length': 14},\n",
       " {'popularity': 20.351, 'title_length': 27},\n",
       " {'popularity': 20.097, 'title_length': 14},\n",
       " {'popularity': 20.049, 'title_length': 17},\n",
       " {'popularity': 20.026, 'title_length': 41},\n",
       " {'popularity': 19.33, 'title_length': 12},\n",
       " {'popularity': 18.93, 'title_length': 11},\n",
       " {'popularity': 18.742, 'title_length': 13},\n",
       " {'popularity': 18.701, 'title_length': 7},\n",
       " {'popularity': 18.554, 'title_length': 19},\n",
       " {'popularity': 18.426, 'title_length': 30},\n",
       " {'popularity': 18.276, 'title_length': 18},\n",
       " {'popularity': 17.409, 'title_length': 14},\n",
       " {'popularity': 16.892, 'title_length': 11},\n",
       " {'popularity': 16.629, 'title_length': 17},\n",
       " {'popularity': 16.514, 'title_length': 28},\n",
       " {'popularity': 16.356, 'title_length': 16},\n",
       " {'popularity': 15.816, 'title_length': 7},\n",
       " {'popularity': 14.363, 'title_length': 27},\n",
       " {'popularity': 13.704, 'title_length': 8},\n",
       " {'popularity': 13.649, 'title_length': 19},\n",
       " {'popularity': 13.141, 'title_length': 13},\n",
       " {'popularity': 12.865, 'title_length': 17},\n",
       " {'popularity': 12.838, 'title_length': 20},\n",
       " {'popularity': 12.817, 'title_length': 68},\n",
       " {'popularity': 12.685, 'title_length': 3},\n",
       " {'popularity': 12.337, 'title_length': 17},\n",
       " {'popularity': 12.308, 'title_length': 13},\n",
       " {'popularity': 12.254, 'title_length': 16},\n",
       " {'popularity': 12.25, 'title_length': 16},\n",
       " {'popularity': 12.115, 'title_length': 12},\n",
       " {'popularity': 11.832, 'title_length': 7},\n",
       " {'popularity': 11.578, 'title_length': 8},\n",
       " {'popularity': 11.535, 'title_length': 1},\n",
       " {'popularity': 11.16, 'title_length': 28},\n",
       " {'popularity': 11.06, 'title_length': 19},\n",
       " {'popularity': 11.018, 'title_length': 26},\n",
       " {'popularity': 10.763, 'title_length': 11},\n",
       " {'popularity': 10.537, 'title_length': 10},\n",
       " {'popularity': 10.312, 'title_length': 12},\n",
       " {'popularity': 10.146, 'title_length': 8},\n",
       " {'popularity': 10.091, 'title_length': 10},\n",
       " {'popularity': 9.96, 'title_length': 13},\n",
       " {'popularity': 9.437, 'title_length': 21},\n",
       " {'popularity': 9.346, 'title_length': 16},\n",
       " {'popularity': 9.338, 'title_length': 7},\n",
       " {'popularity': 9.272, 'title_length': 12},\n",
       " {'popularity': 8.834, 'title_length': 6},\n",
       " {'popularity': 8.758, 'title_length': 12},\n",
       " {'popularity': 8.702, 'title_length': 9},\n",
       " {'popularity': 8.462, 'title_length': 15},\n",
       " {'popularity': 8.238, 'title_length': 9},\n",
       " {'popularity': 8.007, 'title_length': 11},\n",
       " {'popularity': 7.818, 'title_length': 31},\n",
       " {'popularity': 7.535, 'title_length': 11},\n",
       " {'popularity': 7.389, 'title_length': 13},\n",
       " {'popularity': 7.261, 'title_length': 26},\n",
       " {'popularity': 7.145, 'title_length': 13},\n",
       " {'popularity': 6.709, 'title_length': 5},\n",
       " {'popularity': 6.708, 'title_length': 26},\n",
       " {'popularity': 6.679, 'title_length': 10},\n",
       " {'popularity': 6.631, 'title_length': 16},\n",
       " {'popularity': 6.351, 'title_length': 12},\n",
       " {'popularity': 6.292, 'title_length': 31},\n",
       " {'popularity': 6.108, 'title_length': 35},\n",
       " {'popularity': 6.021, 'title_length': 23},\n",
       " {'popularity': 5.212, 'title_length': 14},\n",
       " {'popularity': 3.665, 'title_length': 24},\n",
       " {'popularity': 0.6, 'title_length': 18}]"
      ]
     },
     "execution_count": 128,
     "metadata": {},
     "output_type": "execute_result"
    }
   ],
   "source": []
  },
  {
   "cell_type": "code",
   "execution_count": null,
   "metadata": {},
   "outputs": [],
   "source": []
  }
 ],
 "metadata": {
  "kernelspec": {
   "display_name": "Python 3",
   "language": "python",
   "name": "python3"
  },
  "language_info": {
   "codemirror_mode": {
    "name": "ipython",
    "version": 3
   },
   "file_extension": ".py",
   "mimetype": "text/x-python",
   "name": "python",
   "nbconvert_exporter": "python",
   "pygments_lexer": "ipython3",
   "version": "3.7.2"
  }
 },
 "nbformat": 4,
 "nbformat_minor": 2
}
