{
 "cells": [
  {
   "cell_type": "code",
   "execution_count": 1,
   "metadata": {},
   "outputs": [],
   "source": [
    "import config\n",
    "#DB instance creation\n",
    "import mysql.connector\n",
    "from mysql.connector import errorcode\n",
    "import requests\n"
   ]
  },
  {
   "cell_type": "code",
   "execution_count": 2,
   "metadata": {},
   "outputs": [],
   "source": [
    "def connect_to_db():\n",
    "    cnx = mysql.connector.connect(\n",
    "    host=config.host, user=config.user, passwd=config.password, database=config.DB_NAME)\n",
    "    cursor = cnx.cursor()\n",
    "    return cnx, cursor\n"
   ]
  },
  {
   "cell_type": "code",
   "execution_count": 3,
   "metadata": {},
   "outputs": [],
   "source": [
    "#helper method, executes a sql query and returns the fetchall results\n",
    "def execute_query(query):\n",
    "    cnx, c = connect_to_db()\n",
    "    c.execute(query)\n",
    "    result = c.fetchall()\n",
    "    #close\n",
    "    c.close()\n",
    "    cnx.close()\n",
    "    return result"
   ]
  },
  {
   "cell_type": "code",
   "execution_count": 4,
   "metadata": {},
<<<<<<< HEAD
   "outputs": [
    {
     "data": {
      "text/plain": [
       "[('10402', 'Music'),\n",
       " ('10749', 'Romance'),\n",
       " ('10751', 'Family'),\n",
       " ('10752', 'War'),\n",
       " ('10770', 'TV Movie'),\n",
       " ('12', 'Adventure'),\n",
       " ('14', 'Fantasy'),\n",
       " ('16', 'Animation'),\n",
       " ('18', 'Drama'),\n",
       " ('27', 'Horror'),\n",
       " ('28', 'Action'),\n",
       " ('35', 'Comedy'),\n",
       " ('36', 'History'),\n",
       " ('37', 'Western'),\n",
       " ('53', 'Thriller'),\n",
       " ('80', 'Crime'),\n",
       " ('878', 'Science Fiction'),\n",
       " ('9648', 'Mystery'),\n",
       " ('99', 'Documentary')]"
      ]
     },
     "execution_count": 4,
     "metadata": {},
     "output_type": "execute_result"
    }
   ],
=======
   "outputs": [],
>>>>>>> e0fea6176ac537a1fa55199c35d18bc29da29299
   "source": [
    "def get_genres_from_db():\n",
    "    cnx, cursor = connect_to_db()\n",
    "    query = \"\"\"SELECT * \n",
    "                FROM genres\"\"\"\n",
    "    cursor.execute(query)\n",
    "    return cursor.fetchall()\n",
    "\n",
    "# get_genres_from_db()"
   ]
  },
  {
   "cell_type": "code",
   "execution_count": 5,
   "metadata": {},
<<<<<<< HEAD
   "outputs": [
    {
     "data": {
      "text/plain": [
       "['Lock, Stock and Two Smoking Barrels',\n",
       " 'Taxi Driver',\n",
       " 'Perfect Blue',\n",
       " 'Star Wars',\n",
       " 'Wolf Children',\n",
       " 'Chungking Express',\n",
       " 'The Prestige',\n",
       " 'Shutter Island',\n",
       " 'Ran',\n",
       " 'Sanjuro',\n",
       " 'Yojimbo',\n",
       " 'The Lord of the Rings: The Fellowship of the Ring',\n",
       " 'The Lord of the Rings: The Two Towers',\n",
       " 'The Lord of the Rings: The Return of the King',\n",
       " 'Harry Potter and the Deathly Hallows: Part 2',\n",
       " 'High and Low',\n",
       " 'Spirited Away',\n",
       " 'Forrest Gump',\n",
       " 'Nostalgia',\n",
       " 'Stalker',\n",
       " 'Harakiri',\n",
       " 'Ugetsu',\n",
       " 'The Tale of the Princess Kaguya',\n",
       " 'Citizen Kane',\n",
       " 'The Dark Knight',\n",
       " 'Interstellar',\n",
       " 'Miracle in Cell No. 7',\n",
       " 'A Clockwork Orange',\n",
       " 'Dilwale Dulhania Le Jayenge',\n",
       " 'The Red Shoes',\n",
       " 'The Godfather',\n",
       " 'Some Like It Hot',\n",
       " 'The Godfather: Part II',\n",
       " 'Il Sorpasso',\n",
       " 'Big Deal on Madonna Street',\n",
       " 'Nobody Knows',\n",
       " 'Come and See',\n",
       " 'Inception',\n",
       " 'The Silence of the Lambs',\n",
       " 'The Shawshank Redemption',\n",
       " 'Love Exposure',\n",
       " 'The Circus',\n",
       " 'The Exterminating Angel',\n",
       " 'Avengers: Infinity War',\n",
       " 'Monsieur Verdoux',\n",
       " 'Rome, Open City',\n",
       " 'Modern Times',\n",
       " 'Once Upon a Time in America',\n",
       " 'Hacksaw Ridge',\n",
       " 'Spider-Man: Into the Spider-Verse',\n",
       " 'Lion',\n",
       " 'Once Upon a Time in the West',\n",
       " 'Coco',\n",
       " 'Three Billboards Outside Ebbing, Missouri',\n",
       " 'Your Name.',\n",
       " 'Witness for the Prosecution',\n",
       " 'A Silent Voice',\n",
       " 'Call Me by Your Name',\n",
       " 'Piper',\n",
       " \"Schindler's List\",\n",
       " 'The Good, the Bad and the Ugly',\n",
       " 'Bingo: The King of the Mornings',\n",
       " 'La Dolce Vita',\n",
       " 'Love, Simon',\n",
       " 'In a Heartbeat',\n",
       " 'Incendies',\n",
       " 'Good Will Hunting',\n",
       " 'The Seventh Seal',\n",
       " 'Green Book',\n",
       " 'Parasite',\n",
       " 'The Green Mile',\n",
       " 'Reservoir Dogs',\n",
       " 'The Help',\n",
       " 'My Hero Academia: Two Heroes',\n",
       " 'Five Feet Apart',\n",
       " 'On My Skin',\n",
       " 'Psycho',\n",
       " 'Rashomon',\n",
       " 'Fight Club',\n",
       " 'The Matrix',\n",
       " 'Life Is Beautiful',\n",
       " 'On the Waterfront',\n",
       " 'Pulp Fiction',\n",
       " 'All About Eve',\n",
       " 'There Will Be Blood',\n",
       " 'Memento',\n",
       " 'The Intouchables',\n",
       " 'The Passion of Joan of Arc',\n",
       " 'M',\n",
       " 'Umberto D.',\n",
       " 'My Neighbor Totoro',\n",
       " 'In the Mood for Love',\n",
       " 'Saving Private Ryan',\n",
       " \"Singin' in the Rain\",\n",
       " \"Michael Jackson's Thriller\",\n",
       " 'Hotarubi no Mori e',\n",
       " 'Dr. Strangelove or: How I Learned to Stop Worrying and Love the Bomb',\n",
       " 'The General',\n",
       " 'Dersu Uzala',\n",
       " 'Double Indemnity']"
      ]
     },
     "execution_count": 5,
     "metadata": {},
     "output_type": "execute_result"
    }
   ],
=======
   "outputs": [],
>>>>>>> e0fea6176ac537a1fa55199c35d18bc29da29299
   "source": [
    "\n",
    "def convert_list_from_tuples(tuple_list):\n",
    "    \"\"\"The movie titles are retrieved as a list of tupes, \n",
    "    return instead a list with just the title from the first half of each tuple\"\"\"\n",
    "    title_list = []\n",
    "    for item in tuple_list:\n",
    "        title_list.append(item[0])\n",
    "    return title_list\n",
    "    \n",
    "\n",
    "def get_all_movie_info():\n",
    "    select_q = \"\"\"\n",
    "                SELECT *\n",
    "                FROM movies\n",
    "                \"\"\"\n",
    "    cnx, c = connect_to_db()\n",
    "    c.execute(q)\n",
    "    results = c.fetchall()\n",
    "    cnx.close()\n",
    "    c.close()\n",
    "    return results\n",
    "\n",
    "def get_movie_names():\n",
    "    name_q = \"\"\"\n",
    "            SELECT title\n",
    "            FROM movies\"\"\"\n",
    "    cnx, c = connect_to_db()\n",
    "    c.execute(name_q)\n",
    "    results = c.fetchall()\n",
    "    cnx.close()\n",
    "    c.close()\n",
    "    title_list = convert_list_from_tuples(results) \n",
    "    return title_list\n",
    "\n",
    "# get_movie_names()\n",
    "    "
   ]
  },
  {
   "cell_type": "code",
   "execution_count": 6,
   "metadata": {},
<<<<<<< HEAD
   "outputs": [
    {
     "data": {
      "text/plain": [
       "[('Music', 2),\n",
       " ('Romance', 17),\n",
       " ('Family', 7),\n",
       " ('War', 6),\n",
       " ('Adventure', 13),\n",
       " ('Fantasy', 15),\n",
       " ('Animation', 13),\n",
       " ('Drama', 71),\n",
       " ('Horror', 3),\n",
       " ('Action', 17),\n",
       " ('Comedy', 28),\n",
       " ('History', 8),\n",
       " ('Western', 2),\n",
       " ('Thriller', 14),\n",
       " ('Crime', 20),\n",
       " ('Science Fiction', 8),\n",
       " ('Mystery', 10)]"
      ]
     },
     "execution_count": 6,
     "metadata": {},
     "output_type": "execute_result"
    }
   ],
=======
   "outputs": [],
>>>>>>> e0fea6176ac537a1fa55199c35d18bc29da29299
   "source": [
    "######SQL QUERIES#########\n",
    "\n",
    "def get_most_popular_movie():\n",
    "    q = \"\"\"SELECT * \n",
    "            FROM movies\n",
    "            ORDER BY popularity DESC\n",
    "            LIMIT 5\n",
    "        \"\"\"\n",
    "    cnx, c = connect_to_db()\n",
    "    c.execute(q)\n",
    "    results = c.fetchall()\n",
    "    cnx.close()\n",
    "    c.close()\n",
    "    return results\n",
    "\n",
    "get_most_popular_movie()\n",
    "\n",
    "def get_genre_counts():\n",
    "    q = \"\"\"SELECT genres.name AS genre_name, COUNT(*) \n",
    "        FROM genre_instances\n",
    "        JOIN genres\n",
    "        USING (genre_id)\n",
    "        GROUP BY genre_instances.genre_id\n",
    "    \"\"\"\n",
    "    cnx, c = connect_to_db()\n",
    "    c.execute(q)\n",
    "    results = c.fetchall()\n",
    "    c.close()\n",
    "    cnx.close()\n",
    "    return results\n",
    "\n",
    "# get_genre_counts()"
   ]
  },
  {
   "cell_type": "code",
   "execution_count": 7,
   "metadata": {},
<<<<<<< HEAD
   "outputs": [
    {
     "data": {
      "text/plain": [
       "[('Science Fiction', 48.87150001525879),\n",
       " ('Adventure', 40.18992299299974),\n",
       " ('Action', 32.61799986222211),\n",
       " ('Fantasy', 19.744733214378357),\n",
       " ('Thriller', 18.688071182795934),\n",
       " ('Family', 18.215285641806467),\n",
       " ('Crime', 17.60114974975586),\n",
       " ('Animation', 17.47823070562803),\n",
       " ('Western', 17.47000026702881),\n",
       " ('War', 16.40066687266032),\n",
       " ('Drama', 16.13723940244863),\n",
       " ('Comedy', 14.986321449279785),\n",
       " ('History', 14.899500131607056),\n",
       " ('Romance', 14.847823486608618),\n",
       " ('Mystery', 14.42209997177124),\n",
       " ('Horror', 10.439333279927572),\n",
       " ('Music', 8.884000301361084)]"
      ]
     },
     "execution_count": 7,
     "metadata": {},
     "output_type": "execute_result"
    }
   ],
=======
   "outputs": [],
>>>>>>> e0fea6176ac537a1fa55199c35d18bc29da29299
   "source": [
    "def get_most_popular_genres():\n",
    "    q = \"\"\"\n",
    "        SELECT genres.name, AVG(popularity) AS avg_popularity\n",
    "        FROM genre_instances\n",
    "        JOIN genres \n",
    "        USING (genre_id)\n",
    "        JOIN movies\n",
    "        USING (movie_id)\n",
    "        GROUP BY genre_id\n",
    "        ORDER BY avg_popularity DESC;\n",
    "        \"\"\"\n",
    "    return execute_query(q)\n",
    "\n",
    "# get_most_popular_genres()"
   ]
  },
  {
   "cell_type": "code",
<<<<<<< HEAD
   "execution_count": 25,
   "metadata": {},
   "outputs": [],
   "source": [
    "def insert_second_data_to_table():\n",
    "    pass"
=======
   "execution_count": 65,
   "metadata": {},
   "outputs": [],
   "source": [
    "def get_movies_table():\n",
    "    q = \"\"\"\n",
    "        SELECT * \n",
    "        FROM movies\n",
    "        ORDER BY popularity DESC\n",
    "        \"\"\"\n",
    "    return execute_query(q)"
   ]
  },
  {
   "cell_type": "code",
   "execution_count": 51,
   "metadata": {},
   "outputs": [
    {
     "data": {
      "image/png": "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\n",
      "text/plain": [
       "<Figure size 720x432 with 1 Axes>"
      ]
     },
     "metadata": {
      "needs_background": "light"
     },
     "output_type": "display_data"
    }
   ],
   "source": [
    "import matplotlib.pyplot as plt\n",
    "import seaborn\n",
    "\n",
    "%matplotlib inline\n",
    "\n",
    "\n",
    "# popular_tuple = get_most_popular_genres()\n",
    "# genres = [item[0] for item in popular_tuple]\n",
    "# avg_pop = [item[1] for item in popular_tuple]\n",
    "\n",
    "def bar_chart(x, y, xlabel=None, ylabel=None, title=None):\n",
    "    \"\"\"This function creates bar charts. It must recieve the x and y values to plot.\n",
    "       optional insertions are: add xlabel, ylabel and title.\"\"\"\n",
    "    plt.figure(figsize=(10,6))\n",
    "    plt.bar(x, y, align='center', alpha=0.5)\n",
    "    #give the x ticks a slight rotation in case the data is highly populated\n",
    "    plt.xticks(x, rotation=70)\n",
    "    plt.xlabel(xlabel)\n",
    "    plt.ylabel(ylabel)\n",
    "    plt.title(title)\n",
    "    plt.show()\n",
    "    return\n",
    "\n",
    "bar_chart(genres, avg_pop, \n",
    "          'Genres', 'Average Popularity', \n",
    "          'Average Popularity For Every Genre')"
   ]
  },
  {
   "cell_type": "code",
   "execution_count": 107,
   "metadata": {},
   "outputs": [],
   "source": [
    "## query_tuple = get_movies_table()\n",
    "\n",
    "\n",
    "# title = [item[0] for item in query_tuple]\n",
    "# popu = [item[1] for item in query_tuple]\n",
    "# re_date = [item[2] for item in query_tuple]\n",
    "# vote_count = [item[3] for item in query_tuple]\n",
    "# vote_avg = [item[4] for item in query_tuple]\n",
    "# title_length = [len(item) for item in title]\n",
    "   \n",
    "test_list = []\n",
    "for ind in range(len(popu)):\n",
    "    test_dict = {'popularity': popu[ind],\n",
    "                 'title_length': title_length[ind]}\n",
    "    test_list.append(test_dict)\n",
    "\n",
    "\n",
    "\n",
    "# plt.figure(figsize=(10,6))\n",
    "# plt.scatter(vote_count[2:], popularity[2:], label = \"test\" )\n",
    "# # Set x and y axes lvote_countabels\n",
    "# plt.xlabel('X values')\n",
    "# plt.ylabel('Y values')\n",
    "\n",
    "# plt.title('Scatter Plot in Matplotlib')\n",
    "# plt.legend()\n",
    "# plt.show()\n",
    "\n",
    "\n",
    "# plt.figure(figsize=(10,6))\n",
    "# plt.scatter(title_length, popu, label = \"test\" )\n",
    "# plt.show()\n"
>>>>>>> e0fea6176ac537a1fa55199c35d18bc29da29299
   ]
  },
  {
   "cell_type": "code",
<<<<<<< HEAD
=======
   "execution_count": 112,
   "metadata": {},
   "outputs": [
    {
     "data": {
      "text/plain": [
       "6"
      ]
     },
     "execution_count": 112,
     "metadata": {},
     "output_type": "execute_result"
    }
   ],
   "source": []
  },
  {
   "cell_type": "code",
>>>>>>> e0fea6176ac537a1fa55199c35d18bc29da29299
   "execution_count": null,
   "metadata": {},
   "outputs": [],
   "source": []
  }
 ],
 "metadata": {
  "kernelspec": {
   "display_name": "Python 3",
   "language": "python",
   "name": "python3"
  },
  "language_info": {
   "codemirror_mode": {
    "name": "ipython",
    "version": 3
   },
   "file_extension": ".py",
   "mimetype": "text/x-python",
   "name": "python",
   "nbconvert_exporter": "python",
   "pygments_lexer": "ipython3",
   "version": "3.7.2"
  }
 },
 "nbformat": 4,
 "nbformat_minor": 2
}
