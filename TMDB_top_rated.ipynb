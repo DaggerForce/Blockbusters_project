{
 "cells": [
  {
   "cell_type": "code",
   "execution_count": 17,
   "metadata": {},
   "outputs": [],
   "source": [
    "#parse through the data and retrieve only what I need\n",
    "def arrange_data(data):\n",
    "    \"\"\"This function receives the raw data that we pulled. that is saved in a list of pages.\n",
    "       each page contains a list of movies for every movie \"\"\"\n",
    "    new_list = []\n",
    "    for page in data:\n",
    "        for dictionary in page:\n",
    "            #save the values we want for each title\n",
    "            new_dictionary = {}\n",
    "            for k, v in dictionary.items():\n",
    "                if k == 'id':\n",
    "                    new_dictionary[k] = v\n",
    "                if k == 'title':\n",
    "                    new_dictionary[k] = v\n",
    "                if k == 'popularity':\n",
    "                    new_dictionary[k] = v\n",
    "                if k == 'release_date':\n",
    "                    new_dictionary[k] = v\n",
    "                if k == 'vote_count':\n",
    "                    new_dictionary[k] = v\n",
    "                if k == 'vote_average':\n",
    "                    new_dictionary[k] = v\n",
    "                if k == 'genre_ids':\n",
    "                    new_dictionary[k] = v\n",
    "            new_list.append(new_dictionary)\n",
    "    return new_list"
   ]
  },
  {
   "cell_type": "code",
   "execution_count": null,
   "metadata": {},
   "outputs": [],
   "source": []
  },
  {
   "cell_type": "code",
   "execution_count": null,
   "metadata": {},
   "outputs": [],
   "source": []
  },
  {
   "cell_type": "code",
   "execution_count": null,
   "metadata": {},
   "outputs": [],
   "source": []
  },
  {
   "cell_type": "code",
   "execution_count": null,
   "metadata": {},
   "outputs": [],
   "source": []
  },
  {
   "cell_type": "code",
   "execution_count": null,
   "metadata": {},
   "outputs": [],
   "source": []
  },
  {
   "cell_type": "code",
   "execution_count": 19,
   "metadata": {},
   "outputs": [],
   "source": [
    "import mysql.connector\n",
    "#method for connecting to DB, returns the connection and the cursor\n",
    "def connect_to_db():\n",
    "    cnx = mysql.connector.connect(\n",
    "    host=config.host, user=config.user, passwd=config.password, database=config.DB_NAME)\n",
    "    cursor = cnx.cursor()\n",
    "    return cnx, cursor\n"
   ]
  },
  {
   "cell_type": "code",
   "execution_count": 20,
   "metadata": {},
   "outputs": [],
   "source": [
    "###############################\n",
    "#these two functions make sure our data is in tuple form\n",
    "def create_tuple(reducted_data):\n",
    "    data = (reducted_data['id'], reducted_data['title'],\n",
    "             reducted_data['popularity'], reducted_data['release_date'],\n",
    "             reducted_data['vote_count'], reducted_data['vote_average'])\n",
    "\n",
    "    return data\n",
    "\n",
    "def multiple_tuples(reducted_data):\n",
    "    list_tuples = []\n",
    "    for movie in reducted_data:\n",
    "        list_tuples.append(create_tuple(movie))\n",
    "    return list_tuples\n",
    "################################\n",
    "\n",
    "#'movies' table insertion function\n",
    "def db_insertion(query, data):\n",
    "    for datum in data:\n",
    "        # Make sure data is committed to the database\n",
    "        cursor.execute(query, datum)\n",
    "        cnx.commit()\n",
    "    pass"
   ]
  },
  {
   "cell_type": "code",
   "execution_count": null,
   "metadata": {},
   "outputs": [],
   "source": [
    "import requests\n",
    "import config\n",
    "import time\n",
    "import json\n",
    "\n",
    "def top_rated(pages):\n",
    "    \"\"\"This function retrieves the top rated movies from the movie db using their api.\n",
    "       The user is required to give it a list of the pages they want to obtain from the db\"\"\"\n",
    "    \n",
    "    url = f'https://api.themoviedb.org/3/movie/top_rated?api_key={config.api_key}'\n",
    "    top_rated = []\n",
    "    for page in pages:\n",
    "        #updating the 'page' paramater\n",
    "        params = {'language': '', 'page': page}\n",
    "        response = requests.get(url, params=params)\n",
    "        json_response = response.json()\n",
    "        #making sure we have data before going on\n",
    "        if 'results' in json_response:\n",
    "            top_rated.append(json_response['results'])\n",
    "        #considering movieDB limit for requests\n",
    "        time.sleep(4)\n",
    "    #returns a list of dictionary. each page on a different dictionary.\n",
    "    reducted_data = arrange_data(top_rated)\n",
    "    #tupple_data = multiple_tuples(reducted_data)\n",
    "    return  reducted_data\n",
    "\n",
    "pages = list(range(1, 20))\n",
    "data = top_rated(pages)"
   ]
  },
  {
   "cell_type": "code",
   "execution_count": null,
   "metadata": {},
   "outputs": [],
   "source": []
  },
  {
   "cell_type": "code",
   "execution_count": 22,
   "metadata": {
    "scrolled": true
   },
   "outputs": [],
   "source": [
    "\n",
    "\n",
    "def populate_movies_table(data):\n",
    "    cnx, cursor = connect_to_db()\n",
    "    #the query we use to insert\n",
    "    insert_movies_q = (\"\"\"INSERT INTO movies \n",
    "                     (movie_id, title, popularity, \n",
    "                     release_date, vote_count, vote_avg)\n",
    "                     VALUES (%s, %s, %s, %s, %s, %s)\"\"\")\n",
    "\n",
    "    #get the full list of all values to be inserted\n",
    "    tupled_data = multiple_tuples(data)\n",
    "    # insert the business data ito db\n",
    "    db_insertion(movies, tupled_data)\n",
    "\n",
    "    # make sure the connection is closed.\n",
    "    c.close()\n",
    "    cnx.close()"
   ]
  },
  {
   "cell_type": "code",
   "execution_count": 23,
   "metadata": {},
   "outputs": [
    {
     "ename": "IntegrityError",
     "evalue": "1452 (23000): Cannot add or update a child row: a foreign key constraint fails (`blockbusters`.`genre_instances`, CONSTRAINT `fk_movie_id` FOREIGN KEY (`movie_id`) REFERENCES `movies` (`movie_id`) ON DELETE CASCADE)",
     "output_type": "error",
     "traceback": [
      "\u001b[0;31m---------------------------------------------------------------------------\u001b[0m",
      "\u001b[0;31mIntegrityError\u001b[0m                            Traceback (most recent call last)",
      "\u001b[0;32m<ipython-input-23-9168213271ca>\u001b[0m in \u001b[0;36m<module>\u001b[0;34m\u001b[0m\n\u001b[1;32m     33\u001b[0m \u001b[0;34m\u001b[0m\u001b[0m\n\u001b[1;32m     34\u001b[0m \u001b[0mgenre_data_instance\u001b[0m \u001b[0;34m=\u001b[0m \u001b[0mgenres_tuples\u001b[0m\u001b[0;34m(\u001b[0m\u001b[0mdata\u001b[0m\u001b[0;34m)\u001b[0m\u001b[0;34m\u001b[0m\u001b[0;34m\u001b[0m\u001b[0m\n\u001b[0;32m---> 35\u001b[0;31m \u001b[0mgenre_instances_insertion\u001b[0m\u001b[0;34m(\u001b[0m\u001b[0mgenre_instances\u001b[0m\u001b[0;34m,\u001b[0m \u001b[0mgenre_data_instance\u001b[0m\u001b[0;34m)\u001b[0m\u001b[0;34m\u001b[0m\u001b[0;34m\u001b[0m\u001b[0m\n\u001b[0m\u001b[1;32m     36\u001b[0m \u001b[0;34m\u001b[0m\u001b[0m\n\u001b[1;32m     37\u001b[0m \u001b[0mcursor\u001b[0m\u001b[0;34m.\u001b[0m\u001b[0mclose\u001b[0m\u001b[0;34m(\u001b[0m\u001b[0;34m)\u001b[0m\u001b[0;34m\u001b[0m\u001b[0;34m\u001b[0m\u001b[0m\n",
      "\u001b[0;32m<ipython-input-23-9168213271ca>\u001b[0m in \u001b[0;36mgenre_instances_insertion\u001b[0;34m(query, data)\u001b[0m\n\u001b[1;32m     27\u001b[0m         \u001b[0mmovie_id\u001b[0m \u001b[0;34m=\u001b[0m \u001b[0mdatum\u001b[0m\u001b[0;34m[\u001b[0m\u001b[0;36m0\u001b[0m\u001b[0;34m]\u001b[0m\u001b[0;34m\u001b[0m\u001b[0;34m\u001b[0m\u001b[0m\n\u001b[1;32m     28\u001b[0m         \u001b[0;32mfor\u001b[0m \u001b[0mgenre_id\u001b[0m \u001b[0;32min\u001b[0m \u001b[0mdatum\u001b[0m\u001b[0;34m[\u001b[0m\u001b[0;36m1\u001b[0m\u001b[0;34m]\u001b[0m\u001b[0;34m:\u001b[0m\u001b[0;34m\u001b[0m\u001b[0;34m\u001b[0m\u001b[0m\n\u001b[0;32m---> 29\u001b[0;31m             \u001b[0mcursor\u001b[0m\u001b[0;34m.\u001b[0m\u001b[0mexecute\u001b[0m\u001b[0;34m(\u001b[0m\u001b[0mquery\u001b[0m\u001b[0;34m,\u001b[0m \u001b[0;34m(\u001b[0m\u001b[0mmovie_id\u001b[0m\u001b[0;34m,\u001b[0m \u001b[0mgenre_id\u001b[0m\u001b[0;34m)\u001b[0m\u001b[0;34m)\u001b[0m\u001b[0;34m\u001b[0m\u001b[0;34m\u001b[0m\u001b[0m\n\u001b[0m\u001b[1;32m     30\u001b[0m             \u001b[0mcnx\u001b[0m\u001b[0;34m.\u001b[0m\u001b[0mcommit\u001b[0m\u001b[0;34m(\u001b[0m\u001b[0;34m)\u001b[0m\u001b[0;34m\u001b[0m\u001b[0;34m\u001b[0m\u001b[0m\n\u001b[1;32m     31\u001b[0m \u001b[0;34m\u001b[0m\u001b[0m\n",
      "\u001b[0;32m~/anaconda3/lib/python3.7/site-packages/mysql/connector/cursor.py\u001b[0m in \u001b[0;36mexecute\u001b[0;34m(self, operation, params, multi)\u001b[0m\n\u001b[1;32m    549\u001b[0m         \u001b[0;32melse\u001b[0m\u001b[0;34m:\u001b[0m\u001b[0;34m\u001b[0m\u001b[0;34m\u001b[0m\u001b[0m\n\u001b[1;32m    550\u001b[0m             \u001b[0;32mtry\u001b[0m\u001b[0;34m:\u001b[0m\u001b[0;34m\u001b[0m\u001b[0;34m\u001b[0m\u001b[0m\n\u001b[0;32m--> 551\u001b[0;31m                 \u001b[0mself\u001b[0m\u001b[0;34m.\u001b[0m\u001b[0m_handle_result\u001b[0m\u001b[0;34m(\u001b[0m\u001b[0mself\u001b[0m\u001b[0;34m.\u001b[0m\u001b[0m_connection\u001b[0m\u001b[0;34m.\u001b[0m\u001b[0mcmd_query\u001b[0m\u001b[0;34m(\u001b[0m\u001b[0mstmt\u001b[0m\u001b[0;34m)\u001b[0m\u001b[0;34m)\u001b[0m\u001b[0;34m\u001b[0m\u001b[0;34m\u001b[0m\u001b[0m\n\u001b[0m\u001b[1;32m    552\u001b[0m             \u001b[0;32mexcept\u001b[0m \u001b[0merrors\u001b[0m\u001b[0;34m.\u001b[0m\u001b[0mInterfaceError\u001b[0m\u001b[0;34m:\u001b[0m\u001b[0;34m\u001b[0m\u001b[0;34m\u001b[0m\u001b[0m\n\u001b[1;32m    553\u001b[0m                 \u001b[0;32mif\u001b[0m \u001b[0mself\u001b[0m\u001b[0;34m.\u001b[0m\u001b[0m_connection\u001b[0m\u001b[0;34m.\u001b[0m\u001b[0m_have_next_result\u001b[0m\u001b[0;34m:\u001b[0m  \u001b[0;31m# pylint: disable=W0212\u001b[0m\u001b[0;34m\u001b[0m\u001b[0;34m\u001b[0m\u001b[0m\n",
      "\u001b[0;32m~/anaconda3/lib/python3.7/site-packages/mysql/connector/connection.py\u001b[0m in \u001b[0;36mcmd_query\u001b[0;34m(self, query, raw, buffered, raw_as_string)\u001b[0m\n\u001b[1;32m    488\u001b[0m         \u001b[0;32mif\u001b[0m \u001b[0;32mnot\u001b[0m \u001b[0misinstance\u001b[0m\u001b[0;34m(\u001b[0m\u001b[0mquery\u001b[0m\u001b[0;34m,\u001b[0m \u001b[0mbytes\u001b[0m\u001b[0;34m)\u001b[0m\u001b[0;34m:\u001b[0m\u001b[0;34m\u001b[0m\u001b[0;34m\u001b[0m\u001b[0m\n\u001b[1;32m    489\u001b[0m             \u001b[0mquery\u001b[0m \u001b[0;34m=\u001b[0m \u001b[0mquery\u001b[0m\u001b[0;34m.\u001b[0m\u001b[0mencode\u001b[0m\u001b[0;34m(\u001b[0m\u001b[0;34m'utf-8'\u001b[0m\u001b[0;34m)\u001b[0m\u001b[0;34m\u001b[0m\u001b[0;34m\u001b[0m\u001b[0m\n\u001b[0;32m--> 490\u001b[0;31m         \u001b[0mresult\u001b[0m \u001b[0;34m=\u001b[0m \u001b[0mself\u001b[0m\u001b[0;34m.\u001b[0m\u001b[0m_handle_result\u001b[0m\u001b[0;34m(\u001b[0m\u001b[0mself\u001b[0m\u001b[0;34m.\u001b[0m\u001b[0m_send_cmd\u001b[0m\u001b[0;34m(\u001b[0m\u001b[0mServerCmd\u001b[0m\u001b[0;34m.\u001b[0m\u001b[0mQUERY\u001b[0m\u001b[0;34m,\u001b[0m \u001b[0mquery\u001b[0m\u001b[0;34m)\u001b[0m\u001b[0;34m)\u001b[0m\u001b[0;34m\u001b[0m\u001b[0;34m\u001b[0m\u001b[0m\n\u001b[0m\u001b[1;32m    491\u001b[0m \u001b[0;34m\u001b[0m\u001b[0m\n\u001b[1;32m    492\u001b[0m         \u001b[0;32mif\u001b[0m \u001b[0mself\u001b[0m\u001b[0;34m.\u001b[0m\u001b[0m_have_next_result\u001b[0m\u001b[0;34m:\u001b[0m\u001b[0;34m\u001b[0m\u001b[0;34m\u001b[0m\u001b[0m\n",
      "\u001b[0;32m~/anaconda3/lib/python3.7/site-packages/mysql/connector/connection.py\u001b[0m in \u001b[0;36m_handle_result\u001b[0;34m(self, packet)\u001b[0m\n\u001b[1;32m    393\u001b[0m             \u001b[0;32mreturn\u001b[0m \u001b[0mself\u001b[0m\u001b[0;34m.\u001b[0m\u001b[0m_handle_eof\u001b[0m\u001b[0;34m(\u001b[0m\u001b[0mpacket\u001b[0m\u001b[0;34m)\u001b[0m\u001b[0;34m\u001b[0m\u001b[0;34m\u001b[0m\u001b[0m\n\u001b[1;32m    394\u001b[0m         \u001b[0;32melif\u001b[0m \u001b[0mpacket\u001b[0m\u001b[0;34m[\u001b[0m\u001b[0;36m4\u001b[0m\u001b[0;34m]\u001b[0m \u001b[0;34m==\u001b[0m \u001b[0;36m255\u001b[0m\u001b[0;34m:\u001b[0m\u001b[0;34m\u001b[0m\u001b[0;34m\u001b[0m\u001b[0m\n\u001b[0;32m--> 395\u001b[0;31m             \u001b[0;32mraise\u001b[0m \u001b[0merrors\u001b[0m\u001b[0;34m.\u001b[0m\u001b[0mget_exception\u001b[0m\u001b[0;34m(\u001b[0m\u001b[0mpacket\u001b[0m\u001b[0;34m)\u001b[0m\u001b[0;34m\u001b[0m\u001b[0;34m\u001b[0m\u001b[0m\n\u001b[0m\u001b[1;32m    396\u001b[0m \u001b[0;34m\u001b[0m\u001b[0m\n\u001b[1;32m    397\u001b[0m         \u001b[0;31m# We have a text result set\u001b[0m\u001b[0;34m\u001b[0m\u001b[0;34m\u001b[0m\u001b[0;34m\u001b[0m\u001b[0m\n",
      "\u001b[0;31mIntegrityError\u001b[0m: 1452 (23000): Cannot add or update a child row: a foreign key constraint fails (`blockbusters`.`genre_instances`, CONSTRAINT `fk_movie_id` FOREIGN KEY (`movie_id`) REFERENCES `movies` (`movie_id`) ON DELETE CASCADE)"
     ]
    }
   ],
   "source": [
    "import mysql.connector\n",
    "# create business query, add the data and commit query\n",
    "# connecting my db and start inserting data into it\n",
    "cnx = mysql.connector.connect(\n",
    "    host=config.host,\n",
    "    user=config.user,\n",
    "    passwd=config.password,\n",
    "    database=config.DB_NAME) \n",
    "cursor = cnx.cursor()\n",
    "\n",
    "def create_genre_tuple(reducted_data):\n",
    "    data = (reducted_data['id'], reducted_data['genre_ids'])\n",
    "    return data\n",
    "\n",
    "def genres_tuples(reducted_data):\n",
    "    list_tuples = []\n",
    "    for movie in reducted_data:\n",
    "        list_tuples.append(create_genre_tuple(movie))\n",
    "    return list_tuples\n",
    "\n",
    "genre_instances = (\"\"\"INSERT INTO genre_instances \n",
    "                  (movie_id, genre_id)\n",
    "                  VALUES (%s, %s)\"\"\")\n",
    "\n",
    "def genre_instances_insertion(query, data):\n",
    "    for datum in data:\n",
    "        movie_id = datum[0]\n",
    "        for genre_id in datum[1]:\n",
    "            cursor.execute(query, (movie_id, genre_id))\n",
    "            cnx.commit()\n",
    "        \n",
    "\n",
    "            \n",
    "genre_data_instance = genres_tuples(data)   \n",
    "genre_instances_insertion(genre_instances, genre_data_instance)   \n",
    "\n",
    "cursor.close()\n",
    "cnx.close()"
   ]
  },
  {
   "cell_type": "code",
   "execution_count": null,
   "metadata": {},
   "outputs": [],
   "source": []
  }
 ],
 "metadata": {
  "kernelspec": {
   "display_name": "Python 3",
   "language": "python",
   "name": "python3"
  },
  "language_info": {
   "codemirror_mode": {
    "name": "ipython",
    "version": 3
   },
   "file_extension": ".py",
   "mimetype": "text/x-python",
   "name": "python",
   "nbconvert_exporter": "python",
   "pygments_lexer": "ipython3",
   "version": "3.7.3"
  }
 },
 "nbformat": 4,
 "nbformat_minor": 2
}
