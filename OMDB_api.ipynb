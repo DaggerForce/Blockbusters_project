{
 "cells": [
  {
   "cell_type": "code",
   "execution_count": 129,
   "metadata": {},
   "outputs": [
    {
     "data": {
      "text/plain": [
       "['Lock, Stock and Two Smoking Barrels',\n",
       " 'The Kid',\n",
       " 'Léon: The Professional',\n",
       " 'What Ever Happened to Baby Jane?',\n",
       " 'Taxi Driver']"
      ]
     },
     "execution_count": 129,
     "metadata": {},
     "output_type": "execute_result"
    }
   ],
   "source": [
    "import mysql.connector\n",
    "import re\n",
    "\n",
    "def convert_to_int(string):\n",
    "    clean_string = re.sub('\\W+','', string )\n",
    "    return int(clean_string)\n",
    "\n",
    "\n",
    "def rt_rating(movie):\n",
    "    for rating in movie['Ratings']:\n",
    "        if rating['Source'] == \"Rotten Tomatoes\":\n",
    "            rt_v = rating['Value']\n",
    "            return convert_to_int(rt_v)\n",
    "        \n",
    "\n",
    "def connect_to_db():\n",
    "    cnx = mysql.connector.connect(\n",
    "    host=config.host, user=config.user, passwd=config.password, database=config.DB_NAME)\n",
    "    cursor = cnx.cursor()\n",
    "    return cnx, cursor\n",
    "\n",
    "\n",
    "def convert_list_from_tuples(tuple_list):\n",
    "    \"\"\"The movie titles are retrieved as a list of tupes, \n",
    "    return instead a list with just the title from the first half of each tuple\"\"\"\n",
    "    title_list = []\n",
    "    for item in tuple_list:\n",
    "        title_list.append(item[0])\n",
    "    return title_list\n",
    "    \n",
    "\n",
    "def get_all_movie_info():\n",
    "    select_q = \"\"\"\n",
    "                SELECT *\n",
    "                FROM movies\n",
    "                \"\"\"\n",
    "    cnx, c = connect_to_db()\n",
    "    c.execute(q)\n",
    "    results = c.fetchall()\n",
    "    cnx.close()\n",
    "    c.close()\n",
    "    return results\n",
    "\n",
    "def get_movie_names():\n",
    "    name_q = \"\"\"\n",
    "            SELECT title\n",
    "            FROM movies\"\"\"\n",
    "    cnx, c = connect_to_db()\n",
    "    c.execute(name_q)\n",
    "    results = c.fetchall()\n",
    "    cnx.close()\n",
    "    c.close()\n",
    "    title_list = convert_list_from_tuples(results) \n",
    "    return title_list\n",
    "\n",
    "titles = get_movie_names()\n",
    "titles[:5]"
   ]
  },
  {
   "cell_type": "code",
   "execution_count": 127,
   "metadata": {},
   "outputs": [],
   "source": [
    "import requests\n",
    "import json\n",
    "import config\n",
    "\n",
    "def omdb_api(movies):\n",
    "    \"\"\"This function retrieves the movie deatils for list of given movies using omdb api\"\"\"\n",
    "    movies_details = []\n",
    "    for title in movies:\n",
    "        title.replace(\" \", \"+\")\n",
    "        url = f'http://www.omdbapi.com/?apikey={config.omdb_api}&t={title}'\n",
    "        response = requests.get(url)\n",
    "        movie = response.json()\n",
    "        movie_dict = {'director': movie['Director'],\n",
    "                      'boxoffice': movie['BoxOffice'],\n",
    "                      'rt_rating': rt_rating(movie)}\n",
    "\n",
    "        movies_details.append(movie_dict)\n",
    "    \n",
    "    return movies_details \n",
    "      "
   ]
  },
  {
   "cell_type": "code",
   "execution_count": 128,
   "metadata": {},
   "outputs": [
    {
     "data": {
      "text/plain": [
       "[{'Director': 'Guy Ritchie', 'BoxOffice': 'N/A', 'RT_Rating': 75.0},\n",
       " {'Director': 'Charles Chaplin', 'BoxOffice': 'N/A', 'RT_Rating': 100.0}]"
      ]
     },
     "execution_count": 128,
     "metadata": {},
     "output_type": "execute_result"
    }
   ],
   "source": [
    "two = omdb_api(titles[0:2])\n",
    "two"
   ]
  },
  {
   "cell_type": "code",
   "execution_count": 117,
   "metadata": {},
   "outputs": [
    {
     "name": "stdout",
     "output_type": "stream",
     "text": [
      "key: Title, value: Guardians of the Galaxy Vol. 2\n",
      "key: Year, value: 2017\n",
      "key: Rated, value: PG-13\n",
      "key: Released, value: 05 May 2017\n",
      "key: Runtime, value: 136 min\n",
      "key: Genre, value: Action, Adventure, Comedy, Sci-Fi\n",
      "key: Director, value: James Gunn\n",
      "key: Writer, value: James Gunn, Dan Abnett (based on the Marvel comics by), Andy Lanning (based on the Marvel comics by), Steve Englehart (Star-Lord created by), Steve Gan (Star-Lord created by), Jim Starlin (Gamora and Drax created by), Stan Lee (Groot created by), Larry Lieber (Groot created by), Jack Kirby (Groot created by), Bill Mantlo (Rocket Raccoon created by), Keith Giffen (Rocket Raccoon created by), Steve Gerber (Howard the Duck created by), Val Mayerik (Howard the Duck created by)\n",
      "key: Actors, value: Chris Pratt, Zoe Saldana, Dave Bautista, Vin Diesel\n",
      "key: Plot, value: The Guardians struggle to keep together as a team while dealing with their personal family issues, notably Star-Lord's encounter with his father the ambitious celestial being Ego.\n",
      "key: Language, value: English\n",
      "key: Country, value: USA\n",
      "key: Awards, value: Nominated for 1 Oscar. Another 12 wins & 42 nominations.\n",
      "key: Poster, value: https://m.media-amazon.com/images/M/MV5BMTg2MzI1MTg3OF5BMl5BanBnXkFtZTgwNTU3NDA2MTI@._V1_SX300.jpg\n",
      "key: Ratings, value: [{'Source': 'Internet Movie Database', 'Value': '7.7/10'}, {'Source': 'Rotten Tomatoes', 'Value': '84%'}, {'Source': 'Metacritic', 'Value': '67/100'}]\n",
      "key: Metascore, value: 67\n",
      "key: imdbRating, value: 7.7\n",
      "key: imdbVotes, value: 489,848\n",
      "key: imdbID, value: tt3896198\n",
      "key: Type, value: movie\n",
      "key: DVD, value: 22 Aug 2017\n",
      "key: BoxOffice, value: $389,804,217\n",
      "key: Production, value: Walt Disney Pictures\n",
      "key: Website, value: https://marvel.com/guardians\n",
      "key: Response, value: True\n"
     ]
    }
   ],
   "source": [
    "# b = omdb_api(['Guardians of the Galaxy Vol. 2', 'Lock Stock & Two Smoking Barrles'])\n",
    "for k,v in b[0].items():\n",
    "    print(f\"key: {k}, value: {v}\")\n",
    "# BoxOffice, Director"
   ]
  },
  {
   "cell_type": "code",
   "execution_count": null,
   "metadata": {},
   "outputs": [],
   "source": []
  }
 ],
 "metadata": {
  "kernelspec": {
   "display_name": "Python 3",
   "language": "python",
   "name": "python3"
  },
  "language_info": {
   "codemirror_mode": {
    "name": "ipython",
    "version": 3
   },
   "file_extension": ".py",
   "mimetype": "text/x-python",
   "name": "python",
   "nbconvert_exporter": "python",
   "pygments_lexer": "ipython3",
   "version": "3.7.2"
  }
 },
 "nbformat": 4,
 "nbformat_minor": 2
}
